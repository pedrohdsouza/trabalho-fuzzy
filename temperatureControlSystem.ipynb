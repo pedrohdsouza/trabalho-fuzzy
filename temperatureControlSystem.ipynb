{
  "cells": [
    {
      "cell_type": "code",
      "execution_count": null,
      "metadata": {
        "colab": {
          "base_uri": "https://localhost:8080/"
        },
        "id": "2Dq20D-4NrwC",
        "outputId": "f06058e8-6f4f-4f63-bd52-f35a9a31839b"
      },
      "outputs": [],
      "source": [
        "pip install scikit-fuzzy"
      ]
    },
    {
      "cell_type": "code",
      "execution_count": null,
      "metadata": {
        "colab": {
          "base_uri": "https://localhost:8080/"
        },
        "id": "ON2zhBYGXwcL",
        "outputId": "4c15bc32-770b-4276-abcd-323e78e8a73b"
      },
      "outputs": [],
      "source": [
        "pip install paho-mqtt"
      ]
    },
    {
      "cell_type": "code",
      "execution_count": null,
      "metadata": {
        "colab": {
          "base_uri": "https://localhost:8080/",
          "height": 451
        },
        "id": "SZd9-rlkOSKM",
        "outputId": "8b89c217-80ac-4dc7-ccf2-439868b7374d"
      },
      "outputs": [],
      "source": [
        "import numpy as np\n",
        "import skfuzzy as fuzz\n",
        "import paho.mqtt.client as mqtt\n",
        "from skfuzzy import control as ctrl\n",
        "import time\n",
        "\n",
        "mqttBroker =\"127.0.0.1\"\n",
        "client = mqtt.Client(\"c213Inatelsbm\")\n",
        "client.connect(mqttBroker, 1883)\n",
        "\n",
        "# New Antecedent/Consequent objects hold universe variables and membership\n",
        "# functions\n",
        "errotemp = ctrl.Antecedent(np.arange(-8, 19, 1), 'errotemp')\n",
        "varerrotemp =ctrl.Antecedent(np.arange(-1, 1.01, 0.01), 'varerrotemp')\n",
        "resfriador =ctrl.Consequent(np.arange(0, 101, 1), 'resfriador')\n",
        "\n",
        "\n",
        "# Custom membership functions can be built interactively with a familiar,\n",
        "# Pythonic API\n",
        "errotemp['MN'] = fuzz.trapmf(errotemp.universe, [-8, -8, -0.8,-0.3])\n",
        "errotemp['PN'] = fuzz.trimf(errotemp.universe, [-0.8,-0.3,0])\n",
        "errotemp['ZE'] = fuzz.trimf(errotemp.universe, [-0.3, 0, 0.3])\n",
        "errotemp['PP'] = fuzz.trimf(errotemp.universe, [0, 0.3, 0.8])\n",
        "errotemp['MP'] = fuzz.trapmf(errotemp.universe,[0.3, 0.8, 18,18])\n",
        "# You can see how these look with .view()\n",
        "errotemp.view()"
      ]
    },
    {
      "cell_type": "code",
      "execution_count": null,
      "metadata": {
        "colab": {
          "base_uri": "https://localhost:8080/",
          "height": 451
        },
        "id": "3R3jLCwPTiBq",
        "outputId": "deed8d77-562e-4d85-b2c3-e6ae8961030c"
      },
      "outputs": [],
      "source": [
        "varerrotemp['MN'] = fuzz.trapmf(varerrotemp.universe, [-1, -1, -0.2,-0.1])\n",
        "varerrotemp['PN'] = fuzz.trimf(varerrotemp.universe, [-0.2,-0.1,0])\n",
        "varerrotemp['ZE'] = fuzz.trimf(varerrotemp.universe, [-0.1, 0, 0.1])\n",
        "varerrotemp['PP'] = fuzz.trimf(varerrotemp.universe, [0, 0.1, 0.2])\n",
        "varerrotemp['MP'] = fuzz.trapmf(varerrotemp.universe,[0.1, 0.2, 1,1])\n",
        "# You can see how these look with .view()\n",
        "varerrotemp.view()"
      ]
    },
    {
      "cell_type": "code",
      "execution_count": null,
      "metadata": {
        "colab": {
          "base_uri": "https://localhost:8080/",
          "height": 451
        },
        "id": "S2a1byVd1Vys",
        "outputId": "625d8473-fa46-401f-abf0-730933cdeec6"
      },
      "outputs": [],
      "source": [
        "resfriador['MB'] = fuzz.trimf(resfriador.universe, [0,0,25])\n",
        "resfriador['B'] = fuzz.trimf(resfriador.universe, [0,25,50])\n",
        "resfriador['M'] = fuzz.trimf(resfriador.universe, [25, 50, 75])\n",
        "resfriador['A'] = fuzz.trimf(resfriador.universe, [50, 75, 100])\n",
        "resfriador['MA'] = fuzz.trimf(resfriador.universe, [75, 100, 100])\n",
        "resfriador.view()"
      ]
    },
    {
      "cell_type": "code",
      "execution_count": null,
      "metadata": {
        "id": "ls9H58eVX0Lp"
      },
      "outputs": [],
      "source": [
        "regra1 = ctrl.Rule(errotemp['MN']& varerrotemp['MN'], resfriador['MB'])\n",
        "regra2 = ctrl.Rule(errotemp['PN']& varerrotemp['MN'], resfriador['MB'])\n",
        "regra3 = ctrl.Rule(errotemp['ZE']& varerrotemp['MN'], resfriador['B'])\n",
        "regra4 = ctrl.Rule(errotemp['PP']& varerrotemp['MN'], resfriador['M'])\n",
        "regra5 = ctrl.Rule(errotemp['MP']& varerrotemp['MN'], resfriador['M'])\n",
        "\n",
        "regra6 = ctrl.Rule(errotemp['MN']& varerrotemp['PN'], resfriador['MB'])\n",
        "regra7 = ctrl.Rule(errotemp['PN']& varerrotemp['PN'], resfriador['B'])\n",
        "regra8 = ctrl.Rule(errotemp['ZE']& varerrotemp['PN'], resfriador['B'])\n",
        "regra9 = ctrl.Rule(errotemp['PP']& varerrotemp['PN'], resfriador['A'])\n",
        "regra10 = ctrl.Rule(errotemp['MP']& varerrotemp['PN'], resfriador['A'])\n",
        "\n",
        "regra11 = ctrl.Rule(errotemp['MN']& varerrotemp['ZE'], resfriador['MB'])\n",
        "regra12 = ctrl.Rule(errotemp['PN']& varerrotemp['ZE'], resfriador['B'])\n",
        "regra13 = ctrl.Rule(errotemp['ZE']& varerrotemp['ZE'], resfriador['M'])\n",
        "regra14 = ctrl.Rule(errotemp['PP']& varerrotemp['ZE'], resfriador['A'])\n",
        "regra15 = ctrl.Rule(errotemp['MP']& varerrotemp['ZE'], resfriador['MA'])\n",
        "\n",
        "regra16 = ctrl.Rule(errotemp['MN']& varerrotemp['PP'], resfriador['B'])\n",
        "regra17 = ctrl.Rule(errotemp['PN']& varerrotemp['PP'], resfriador['B'])\n",
        "regra18 = ctrl.Rule(errotemp['ZE']& varerrotemp['PP'], resfriador['M'])\n",
        "regra19 = ctrl.Rule(errotemp['PP']& varerrotemp['PP'], resfriador['A'])\n",
        "regra20 = ctrl.Rule(errotemp['MP']& varerrotemp['PP'], resfriador['MA'])\n",
        "\n",
        "regra21 = ctrl.Rule(errotemp['MN']& varerrotemp['MP'], resfriador['M'])\n",
        "regra22 = ctrl.Rule(errotemp['PN']& varerrotemp['MP'], resfriador['M'])\n",
        "regra23 = ctrl.Rule(errotemp['ZE']& varerrotemp['MP'], resfriador['A'])\n",
        "regra24 = ctrl.Rule(errotemp['PP']& varerrotemp['MP'], resfriador['MA'])\n",
        "regra25 = ctrl.Rule(errotemp['MP']& varerrotemp['MP'], resfriador['MA'])"
      ]
    },
    {
      "cell_type": "code",
      "execution_count": null,
      "metadata": {
        "id": "X42dyviKYl_B"
      },
      "outputs": [],
      "source": [
        "resfriador_ctrl = ctrl.ControlSystem([regra1, regra2, regra3,regra4,regra5,regra6, regra7, regra8,regra9,regra10,regra11, regra12, regra13,regra14,regra15,regra16, regra17, regra18,regra19,regra20,regra21, regra22, regra23,regra24,regra25])\n",
        "potencia = ctrl.ControlSystemSimulation(resfriador_ctrl)"
      ]
    },
    {
      "cell_type": "code",
      "execution_count": null,
      "metadata": {
        "colab": {
          "background_save": true,
          "base_uri": "https://localhost:8080/"
        },
        "id": "mA02tTBjY9na",
        "outputId": "773be6d6-eccb-4ba9-8f05-851a8bda7406"
      },
      "outputs": [],
      "source": [
        "sp = -8\n",
        "tempatual = 2\n",
        "print('TEMPERATURA ATUAL: ', tempatual)\n",
        "erroatual = tempatual-sp \n",
        "while True: \n",
        "  erroanterior = erroatual\n",
        "  erroatual = tempatual-sp\n",
        "  varerroTemp = erroatual-erroanterior\n",
        "  potencia.input['errotemp'] = erroatual\n",
        "  potencia.input['varerrotemp'] = varerroTemp\n",
        "  potencia.compute()\n",
        "  tempatual = tempatual * 0.9952 - potencia.output['resfriador'] * 0.0003963\n",
        "  time.sleep(0.1)\n",
        "  print()\n",
        "  print('TEMPERATURA ATUAL: ', tempatual)\n",
        "  client.publish(\"Resfriador/Temperatura\", tempatual)\n",
        "  client.publish(\"Resfriador/erro\", erroatual)"
      ]
    }
  ],
  "metadata": {
    "colab": {
      "provenance": []
    },
    "kernelspec": {
      "display_name": "Python 3",
      "name": "python3"
    },
    "language_info": {
      "codemirror_mode": {
        "name": "ipython",
        "version": 3
      },
      "file_extension": ".py",
      "mimetype": "text/x-python",
      "name": "python",
      "nbconvert_exporter": "python",
      "pygments_lexer": "ipython3",
      "version": "3.10.12"
    }
  },
  "nbformat": 4,
  "nbformat_minor": 0
}
